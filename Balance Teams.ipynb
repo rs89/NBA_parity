{
 "cells": [
  {
   "cell_type": "markdown",
   "metadata": {},
   "source": [
    "# Optimizing NBA League Parity"
   ]
  },
  {
   "cell_type": "code",
   "execution_count": 1,
   "metadata": {},
   "outputs": [],
   "source": [
    "# View of the new NBA teams here"
   ]
  },
  {
   "cell_type": "markdown",
   "metadata": {},
   "source": [
    "## What are we doing?"
   ]
  },
  {
   "cell_type": "code",
   "execution_count": null,
   "metadata": {},
   "outputs": [],
   "source": []
  },
  {
   "cell_type": "markdown",
   "metadata": {},
   "source": [
    "## WTH is VORP?"
   ]
  },
  {
   "cell_type": "code",
   "execution_count": null,
   "metadata": {},
   "outputs": [],
   "source": []
  },
  {
   "cell_type": "markdown",
   "metadata": {},
   "source": [
    "## Uh, ok, how bad is it?"
   ]
  },
  {
   "cell_type": "code",
   "execution_count": 2,
   "metadata": {},
   "outputs": [],
   "source": [
    "# plot of VORP of teams best to worst for several years"
   ]
  },
  {
   "cell_type": "code",
   "execution_count": null,
   "metadata": {},
   "outputs": [],
   "source": []
  },
  {
   "cell_type": "markdown",
   "metadata": {},
   "source": [
    "Before we imported the data, we manually totaled players who were traded to their current team"
   ]
  },
  {
   "cell_type": "code",
   "execution_count": 3,
   "metadata": {},
   "outputs": [],
   "source": [
    "%matplotlib inline\n",
    "import pandas as pd\n",
    "import matplotlib\n",
    "\n",
    "matplotlib.style.use('ggplot')"
   ]
  },
  {
   "cell_type": "code",
   "execution_count": 4,
   "metadata": {
    "scrolled": true
   },
   "outputs": [
    {
     "data": {
      "text/html": [
       "<div>\n",
       "<style scoped>\n",
       "    .dataframe tbody tr th:only-of-type {\n",
       "        vertical-align: middle;\n",
       "    }\n",
       "\n",
       "    .dataframe tbody tr th {\n",
       "        vertical-align: top;\n",
       "    }\n",
       "\n",
       "    .dataframe thead th {\n",
       "        text-align: right;\n",
       "    }\n",
       "</style>\n",
       "<table border=\"1\" class=\"dataframe\">\n",
       "  <thead>\n",
       "    <tr style=\"text-align: right;\">\n",
       "      <th></th>\n",
       "      <th>Rk</th>\n",
       "      <th>Pos</th>\n",
       "      <th>Age</th>\n",
       "      <th>Tm</th>\n",
       "      <th>2016-7 mins</th>\n",
       "      <th>2016-7 VORP</th>\n",
       "      <th>2017-8 mins</th>\n",
       "      <th>2017-8 VORP</th>\n",
       "      <th>total_mins</th>\n",
       "      <th>total_vorp</th>\n",
       "    </tr>\n",
       "    <tr>\n",
       "      <th>Player</th>\n",
       "      <th></th>\n",
       "      <th></th>\n",
       "      <th></th>\n",
       "      <th></th>\n",
       "      <th></th>\n",
       "      <th></th>\n",
       "      <th></th>\n",
       "      <th></th>\n",
       "      <th></th>\n",
       "      <th></th>\n",
       "    </tr>\n",
       "  </thead>\n",
       "  <tbody>\n",
       "    <tr>\n",
       "      <th>Andrew Wiggins</th>\n",
       "      <td>458</td>\n",
       "      <td>SF</td>\n",
       "      <td>22</td>\n",
       "      <td>MIN</td>\n",
       "      <td>3048</td>\n",
       "      <td>-0.6</td>\n",
       "      <td>1627</td>\n",
       "      <td>-0.1</td>\n",
       "      <td>4675</td>\n",
       "      <td>-0.7</td>\n",
       "    </tr>\n",
       "    <tr>\n",
       "      <th>Karl-Anthony Towns</th>\n",
       "      <td>431</td>\n",
       "      <td>C</td>\n",
       "      <td>22</td>\n",
       "      <td>MIN</td>\n",
       "      <td>3030</td>\n",
       "      <td>5.3</td>\n",
       "      <td>1607</td>\n",
       "      <td>2.8</td>\n",
       "      <td>4637</td>\n",
       "      <td>8.1</td>\n",
       "    </tr>\n",
       "    <tr>\n",
       "      <th>Jimmy Butler</th>\n",
       "      <td>73</td>\n",
       "      <td>SG</td>\n",
       "      <td>28</td>\n",
       "      <td>MIN</td>\n",
       "      <td>2809</td>\n",
       "      <td>6.3</td>\n",
       "      <td>1580</td>\n",
       "      <td>2.8</td>\n",
       "      <td>4389</td>\n",
       "      <td>9.1</td>\n",
       "    </tr>\n",
       "    <tr>\n",
       "      <th>Khris Middleton</th>\n",
       "      <td>304</td>\n",
       "      <td>SF</td>\n",
       "      <td>26</td>\n",
       "      <td>MIL</td>\n",
       "      <td>889</td>\n",
       "      <td>0.3</td>\n",
       "      <td>1554</td>\n",
       "      <td>0.6</td>\n",
       "      <td>2443</td>\n",
       "      <td>0.9</td>\n",
       "    </tr>\n",
       "    <tr>\n",
       "      <th>Russell Westbrook</th>\n",
       "      <td>453</td>\n",
       "      <td>PG</td>\n",
       "      <td>29</td>\n",
       "      <td>OKC</td>\n",
       "      <td>2802</td>\n",
       "      <td>12.4</td>\n",
       "      <td>1553</td>\n",
       "      <td>4.2</td>\n",
       "      <td>4355</td>\n",
       "      <td>16.6</td>\n",
       "    </tr>\n",
       "  </tbody>\n",
       "</table>\n",
       "</div>"
      ],
      "text/plain": [
       "                     Rk Pos  Age   Tm  2016-7 mins  2016-7 VORP  2017-8 mins  \\\n",
       "Player                                                                         \n",
       "Andrew Wiggins      458  SF   22  MIN         3048         -0.6         1627   \n",
       "Karl-Anthony Towns  431   C   22  MIN         3030          5.3         1607   \n",
       "Jimmy Butler         73  SG   28  MIN         2809          6.3         1580   \n",
       "Khris Middleton     304  SF   26  MIL          889          0.3         1554   \n",
       "Russell Westbrook   453  PG   29  OKC         2802         12.4         1553   \n",
       "\n",
       "                    2017-8 VORP  total_mins  total_vorp  \n",
       "Player                                                   \n",
       "Andrew Wiggins             -0.1        4675        -0.7  \n",
       "Karl-Anthony Towns          2.8        4637         8.1  \n",
       "Jimmy Butler                2.8        4389         9.1  \n",
       "Khris Middleton             0.6        2443         0.9  \n",
       "Russell Westbrook           4.2        4355        16.6  "
      ]
     },
     "execution_count": 4,
     "metadata": {},
     "output_type": "execute_result"
    }
   ],
   "source": [
    "# Read in players and teams\n",
    "df = pd.read_excel(io=\"2018stats.xlsx\", sheet_name=\"data\", header=0, index_col=1)\n",
    "df.head()"
   ]
  },
  {
   "cell_type": "markdown",
   "metadata": {},
   "source": [
    "Remove players with less than 300 minutes over the past two seasons"
   ]
  },
  {
   "cell_type": "code",
   "execution_count": 5,
   "metadata": {},
   "outputs": [],
   "source": [
    "df = df[df.total_mins > 300]"
   ]
  },
  {
   "cell_type": "code",
   "execution_count": 6,
   "metadata": {},
   "outputs": [
    {
     "data": {
      "text/plain": [
       "389"
      ]
     },
     "execution_count": 6,
     "metadata": {},
     "output_type": "execute_result"
    }
   ],
   "source": [
    "Players = df.index.unique()\n",
    "len(Players)"
   ]
  },
  {
   "cell_type": "code",
   "execution_count": 7,
   "metadata": {},
   "outputs": [
    {
     "name": "stdout",
     "output_type": "stream",
     "text": [
      "['MIN' 'MIL' 'OKC' 'CLE' 'NOP' 'WAS' 'DAL' 'POR' 'GSW' 'CHI' 'MIA' 'MEM'\n",
      " 'NYK' 'TOR' 'HOU' 'SAS' 'IND' 'LAL' 'BOS' 'DEN' 'CHO' 'PHO' 'PHI' 'DET'\n",
      " 'LAC' 'ATL' 'UTA' 'ORL' 'BRK' 'SAC']\n"
     ]
    }
   ],
   "source": [
    "Teams = df[\"Tm\"].unique()\n",
    "print(Teams)"
   ]
  },
  {
   "cell_type": "code",
   "execution_count": 8,
   "metadata": {},
   "outputs": [
    {
     "data": {
      "text/plain": [
       "Player\n",
       "Andrew Wiggins        MIN\n",
       "Karl-Anthony Towns    MIN\n",
       "Jimmy Butler          MIN\n",
       "Khris Middleton       MIL\n",
       "Russell Westbrook     OKC\n",
       "Name: Tm, dtype: object"
      ]
     },
     "execution_count": 8,
     "metadata": {},
     "output_type": "execute_result"
    }
   ],
   "source": [
    "player_cur_team=df[\"Tm\"]\n",
    "player_cur_team.head()"
   ]
  },
  {
   "cell_type": "markdown",
   "metadata": {},
   "source": [
    "But VORP is a product of playing time: the more time you have to play, the more opportunity you have to succeeed/fail. So we'll create a stat that standardizes each player based on the average value created per 1000 minutes: **\"VORPper1000min\"**"
   ]
  },
  {
   "cell_type": "code",
   "execution_count": 9,
   "metadata": {},
   "outputs": [],
   "source": [
    "df[\"VORPper1000\"]=(df[\"total_vorp\"]/df[\"total_mins\"])*1000"
   ]
  },
  {
   "cell_type": "code",
   "execution_count": 10,
   "metadata": {},
   "outputs": [
    {
     "data": {
      "text/plain": [
       "Player\n",
       "Andrew Wiggins       -0.149733\n",
       "Karl-Anthony Towns    1.746819\n",
       "Jimmy Butler          2.073365\n",
       "Khris Middleton       0.368400\n",
       "Russell Westbrook     3.811711\n",
       "Name: VORPper1000, dtype: float64"
      ]
     },
     "execution_count": 10,
     "metadata": {},
     "output_type": "execute_result"
    }
   ],
   "source": [
    "df[\"VORPper1000\"].head()"
   ]
  },
  {
   "cell_type": "code",
   "execution_count": 11,
   "metadata": {},
   "outputs": [],
   "source": [
    "focusStat = \"total_vorp\" # we use a \"focusStat\" variable so we can change it later on if we want to."
   ]
  },
  {
   "cell_type": "code",
   "execution_count": 12,
   "metadata": {},
   "outputs": [
    {
     "data": {
      "text/plain": [
       "Player\n",
       "Dewayne Dedmon           1.5\n",
       "Kent Bazemore            1.5\n",
       "Dennis Schroder          1.3\n",
       "Mike Muscala             1.1\n",
       "John Collins             0.8\n",
       "Ersan Ilyasova           0.5\n",
       "Tyler Cavanaugh          0.3\n",
       "Marco Belinelli          0.2\n",
       "Taurean Waller-Prince    0.2\n",
       "Nicolas Brussino         0.1\n",
       "Miles Plumlee            0.0\n",
       "Luke Babbitt            -0.1\n",
       "Isaiah Taylor           -0.5\n",
       "DeAndre' Bembry         -0.6\n",
       "Malcolm Delaney         -1.4\n",
       "Name: total_vorp, dtype: float64"
      ]
     },
     "execution_count": 12,
     "metadata": {},
     "output_type": "execute_result"
    }
   ],
   "source": [
    "df[focusStat][df[\"Tm\"]==\"ATL\"].sort_values(ascending=False)"
   ]
  },
  {
   "cell_type": "code",
   "execution_count": 13,
   "metadata": {},
   "outputs": [
    {
     "data": {
      "image/png": "[encoded data removed]",
      "text/plain": [
       "<matplotlib.figure.Figure at 0x946a2e8>"
      ]
     },
     "metadata": {},
     "output_type": "display_data"
    }
   ],
   "source": [
    "plt = df.groupby([\"Tm\"]).sum()[focusStat].sort_values(ascending = False).plot(kind=\"bar\")"
   ]
  },
  {
   "cell_type": "markdown",
   "metadata": {},
   "source": [
    "## So how are we going to fix it?"
   ]
  },
  {
   "cell_type": "markdown",
   "metadata": {},
   "source": [
    "We're going to create a mixed integer program (MIP) to model the team assignments. Then, we'll optimize the distribution of players while following a few rules."
   ]
  },
  {
   "cell_type": "code",
   "execution_count": 14,
   "metadata": {},
   "outputs": [],
   "source": [
    "from gurobipy import *"
   ]
  },
  {
   "cell_type": "markdown",
   "metadata": {},
   "source": [
    "### Model Variables"
   ]
  },
  {
   "cell_type": "code",
   "execution_count": 15,
   "metadata": {},
   "outputs": [],
   "source": [
    "# Instantiate the model\n",
    "m = Model()"
   ]
  },
  {
   "cell_type": "markdown",
   "metadata": {},
   "source": [
    "Here's the old way to create model vars in Gurobi (prior to v7.4)"
   ]
  },
  {
   "cell_type": "code",
   "execution_count": 16,
   "metadata": {},
   "outputs": [],
   "source": [
    "# Binary Varable (1: player P is on team T, 0: otherwise)\n",
    "player_assigned_to_team = {}\n",
    "for t in Teams:\n",
    "    for p in Players:\n",
    "        player_assigned_to_team[p,t] = \\\n",
    "        m.addVar(vtype=GRB.BINARY, \n",
    "                 name=\"player_{}_assigned_to_team_{}\".format(p,t))"
   ]
  },
  {
   "cell_type": "markdown",
   "metadata": {},
   "source": [
    "And the new way..."
   ]
  },
  {
   "cell_type": "code",
   "execution_count": 17,
   "metadata": {},
   "outputs": [],
   "source": [
    "#player_assigned_to_team = m.addVars(Players, Teams, vtype=GRB.BINARY)"
   ]
  },
  {
   "cell_type": "code",
   "execution_count": 18,
   "metadata": {},
   "outputs": [
    {
     "data": {
      "text/plain": [
       "11670"
      ]
     },
     "execution_count": 18,
     "metadata": {},
     "output_type": "execute_result"
    }
   ],
   "source": [
    "len(player_assigned_to_team)"
   ]
  },
  {
   "cell_type": "code",
   "execution_count": 19,
   "metadata": {},
   "outputs": [],
   "source": [
    "team_rating = m.addVars(Teams, vtype=GRB.CONTINUOUS)"
   ]
  },
  {
   "cell_type": "code",
   "execution_count": 20,
   "metadata": {},
   "outputs": [],
   "source": [
    "#min_team_rating = m.addVars(Teams, vtype=GRB.CONTINUOUS, name=\"minimum_team_rating\") # this shouldnt be indexed by teams, only one var"
   ]
  },
  {
   "cell_type": "code",
   "execution_count": 21,
   "metadata": {},
   "outputs": [],
   "source": [
    "#max_team_rating = m.addVars(Teams, vtype=GRB.CONTINUOUS, name=\"maximum_team_rating\")"
   ]
  },
  {
   "cell_type": "code",
   "execution_count": 22,
   "metadata": {},
   "outputs": [],
   "source": [
    "min_team_rating = {}\n",
    "min_team_rating = m.addVar(vtype=GRB.CONTINUOUS,\n",
    "                          name=\"minimum_team_rating\")"
   ]
  },
  {
   "cell_type": "code",
   "execution_count": 23,
   "metadata": {},
   "outputs": [],
   "source": [
    "max_team_rating = {}\n",
    "max_team_rating = m.addVar(vtype=GRB.CONTINUOUS,\n",
    "                          name=\"maximum_team_rating\")"
   ]
  },
  {
   "cell_type": "code",
   "execution_count": 24,
   "metadata": {},
   "outputs": [],
   "source": [
    "m.update()"
   ]
  },
  {
   "cell_type": "markdown",
   "metadata": {},
   "source": [
    "### Constraints (or rules...)"
   ]
  },
  {
   "cell_type": "code",
   "execution_count": 25,
   "metadata": {},
   "outputs": [],
   "source": [
    "# Each player must be assigned to at most 1 team\n",
    "#m.addConstrs((player_assigned_to_team.sum(p,'*')<=1 for p in Players))"
   ]
  },
  {
   "cell_type": "code",
   "execution_count": 26,
   "metadata": {},
   "outputs": [],
   "source": [
    "for p in Players:\n",
    "    m.addConstr(sum(player_assigned_to_team[p,t] for t in Teams)==1,\n",
    "               name=\"player_{}_may_only_be_on_one_team\".format(p))"
   ]
  },
  {
   "cell_type": "code",
   "execution_count": 27,
   "metadata": {},
   "outputs": [
    {
     "data": {
      "text/plain": [
       "<gurobi.Var minimum_team_rating>"
      ]
     },
     "execution_count": 27,
     "metadata": {},
     "output_type": "execute_result"
    }
   ],
   "source": [
    "min_team_rating"
   ]
  },
  {
   "cell_type": "code",
   "execution_count": 28,
   "metadata": {},
   "outputs": [],
   "source": [
    "# Calculate min, max team ratings\n",
    "for t in Teams:\n",
    "    m.addConstr(sum(player_assigned_to_team[p,t]*df[focusStat][p] for p in Players)\n",
    "               >= min_team_rating,\n",
    "               name=\"min_rating_greater_than_team_{}\".format(t))\n",
    "    m.addConstr(sum(player_assigned_to_team[p,t]*df[focusStat][p] for p in Players)\n",
    "               <= max_team_rating,\n",
    "               name=\"max_rating_greater_than_team_{}\".format(t))"
   ]
  },
  {
   "cell_type": "code",
   "execution_count": 29,
   "metadata": {},
   "outputs": [],
   "source": [
    "# Each team must have between 13 and 17 players\n",
    "max_team_size = 17\n",
    "min_team_size = 13\n",
    "\n",
    "for t in Teams:\n",
    "    m.addConstr(sum(player_assigned_to_team[p,t] for p in Players)\n",
    "               >= min_team_size,\n",
    "               name=\"team_{}_must_have_min_team_size\".format(t))\n",
    "    m.addConstr(sum(player_assigned_to_team[p,t] for p in Players)\n",
    "               <= max_team_size,\n",
    "               name=\"team_{}_must_have_max_team_size\".format(t))"
   ]
  },
  {
   "cell_type": "code",
   "execution_count": 30,
   "metadata": {},
   "outputs": [],
   "source": [
    "# each team must have this many of each position"
   ]
  },
  {
   "cell_type": "code",
   "execution_count": 31,
   "metadata": {},
   "outputs": [],
   "source": [
    "min_players_by_position = {}\n",
    "min_players_by_position[\"PG\"] = 2\n",
    "min_players_by_position[\"SG\"] = 2\n",
    "min_players_by_position[\"SF\"] = 2\n",
    "min_players_by_position[\"PF\"] = 2\n",
    "min_players_by_position[\"C\"] = 2"
   ]
  },
  {
   "cell_type": "code",
   "execution_count": 32,
   "metadata": {},
   "outputs": [
    {
     "data": {
      "text/plain": [
       "'PF'"
      ]
     },
     "execution_count": 32,
     "metadata": {},
     "output_type": "execute_result"
    }
   ],
   "source": [
    "df[\"Pos\"].loc[\"LeBron James\"]"
   ]
  },
  {
   "cell_type": "code",
   "execution_count": 33,
   "metadata": {},
   "outputs": [],
   "source": [
    "pos_dict = df[\"Pos\"].to_dict()"
   ]
  },
  {
   "cell_type": "code",
   "execution_count": 34,
   "metadata": {},
   "outputs": [
    {
     "data": {
      "text/plain": [
       "False"
      ]
     },
     "execution_count": 34,
     "metadata": {},
     "output_type": "execute_result"
    }
   ],
   "source": [
    "pos_dict[\"LeBron James\"] == \"PG\""
   ]
  },
  {
   "cell_type": "code",
   "execution_count": 35,
   "metadata": {},
   "outputs": [],
   "source": [
    "for pos in min_players_by_position:\n",
    "    for t in Teams:\n",
    "        m.addConstr(sum(player_assigned_to_team[p,t] for p in Players\n",
    "                                                if pos_dict[p] == pos)\n",
    "                   >= min_players_by_position[pos],\n",
    "                name=\"team_{}_must_have_atleast_{}_{}\".format(t,\n",
    "                                               min_players_by_position[pos],\n",
    "                                                             p))\n"
   ]
  },
  {
   "cell_type": "code",
   "execution_count": 36,
   "metadata": {},
   "outputs": [],
   "source": [
    "def thisPlayerOnTeam(p,t):\n",
    "    if(player_cur_team[p] == t):\n",
    "        ret = 1\n",
    "    else:\n",
    "        ret = 0\n",
    "    return ret"
   ]
  },
  {
   "cell_type": "code",
   "execution_count": 37,
   "metadata": {},
   "outputs": [
    {
     "data": {
      "text/plain": [
       "0"
      ]
     },
     "execution_count": 37,
     "metadata": {},
     "output_type": "execute_result"
    }
   ],
   "source": [
    "thisPlayerOnTeam(\"LeBron James\",\"ATL\")"
   ]
  },
  {
   "cell_type": "code",
   "execution_count": 38,
   "metadata": {},
   "outputs": [],
   "source": [
    "totalTrades = m.addVar(vtype=GRB.CONTINUOUS, name='total num of trades')"
   ]
  },
  {
   "cell_type": "code",
   "execution_count": 39,
   "metadata": {},
   "outputs": [],
   "source": [
    "m.update()"
   ]
  },
  {
   "cell_type": "code",
   "execution_count": 40,
   "metadata": {},
   "outputs": [
    {
     "data": {
      "text/plain": [
       "<gurobi.Constr *Awaiting Model Update*>"
      ]
     },
     "execution_count": 40,
     "metadata": {},
     "output_type": "execute_result"
    }
   ],
   "source": [
    "# calculate the sum total of player change\n",
    "m.addConstr(sum(player_assigned_to_team[p,t]*thisPlayerOnTeam(p,t)\n",
    "               for p in Players for t in Teams),GRB.EQUAL, totalTrades,\n",
    "               name=\"Total trades between teams\")"
   ]
  },
  {
   "cell_type": "code",
   "execution_count": 41,
   "metadata": {},
   "outputs": [
    {
     "data": {
      "text/plain": [
       "<gurobi.Constr *Awaiting Model Update*>"
      ]
     },
     "execution_count": 41,
     "metadata": {},
     "output_type": "execute_result"
    }
   ],
   "source": [
    "# stipulate max team threshold\n",
    "max_threshold = 10000\n",
    "m.addConstr(max_team_rating - min_team_rating <= max_threshold,\n",
    "           name='force max threshold')"
   ]
  },
  {
   "cell_type": "code",
   "execution_count": 42,
   "metadata": {},
   "outputs": [],
   "source": [
    "m.update()"
   ]
  },
  {
   "cell_type": "code",
   "execution_count": 43,
   "metadata": {},
   "outputs": [],
   "source": [
    "m.setObjective(totalTrades)\n",
    "m.ModelSense = GRB.MAXIMIZE"
   ]
  },
  {
   "cell_type": "code",
   "execution_count": 44,
   "metadata": {},
   "outputs": [],
   "source": [
    "# TODO: Multilevel objective -  (1) total VORP is maximized, and (2) trades are minimized"
   ]
  },
  {
   "cell_type": "code",
   "execution_count": 45,
   "metadata": {},
   "outputs": [],
   "source": [
    "#m.tune()"
   ]
  },
  {
   "cell_type": "code",
   "execution_count": 46,
   "metadata": {},
   "outputs": [
    {
     "name": "stdout",
     "output_type": "stream",
     "text": [
      "Changed value of parameter mipgap to 0.01\n",
      "   Prev: 0.0001  Min: 0.0  Max: 1e+100  Default: 0.0001\n"
     ]
    }
   ],
   "source": [
    "m.params.mipgap = 0.01\n",
    "#m.params.symmetry = -1"
   ]
  },
  {
   "cell_type": "code",
   "execution_count": 47,
   "metadata": {},
   "outputs": [
    {
     "name": "stdout",
     "output_type": "stream",
     "text": [
      "Optimize a model with 661 rows, 11703 columns and 69152 nonzeros\n",
      "Variable types: 33 continuous, 11670 integer (11670 binary)\n",
      "Coefficient statistics:\n",
      "  Matrix range     [1e-01, 2e+01]\n",
      "  Objective range  [1e+00, 1e+00]\n",
      "  Bounds range     [1e+00, 1e+00]\n",
      "  RHS range        [1e+00, 1e+04]\n",
      "Presolve removed 32 rows and 33 columns\n",
      "Presolve time: 0.14s\n",
      "Presolved: 629 rows, 11670 columns, 57690 nonzeros\n",
      "Variable types: 0 continuous, 11670 integer (11670 binary)\n",
      "\n",
      "Root relaxation: infeasible, 1271 iterations, 0.05 seconds\n",
      "\n",
      "    Nodes    |    Current Node    |     Objective Bounds      |     Work\n",
      " Expl Unexpl |  Obj  Depth IntInf | Incumbent    BestBd   Gap | It/Node Time\n",
      "\n",
      "     0     0 infeasible    0               - infeasible      -     -    0s\n",
      "\n",
      "Explored 0 nodes (1271 simplex iterations) in 0.29 seconds\n",
      "Thread count was 8 (of 8 available processors)\n",
      "\n",
      "Solution count 0\n",
      "\n",
      "Model is infeasible or unbounded\n",
      "Best objective -, best bound -, gap -\n"
     ]
    }
   ],
   "source": [
    "m.optimize()"
   ]
  },
  {
   "cell_type": "code",
   "execution_count": null,
   "metadata": {},
   "outputs": [],
   "source": [
    "sol_player_assigned_to_team = {}\n",
    "sol_player_assigned_to_team =\\\n",
    "        m.getAttr('X',player_assigned_to_team)"
   ]
  },
  {
   "cell_type": "code",
   "execution_count": null,
   "metadata": {},
   "outputs": [],
   "source": [
    "sol_player_assigned_to_team"
   ]
  },
  {
   "cell_type": "code",
   "execution_count": null,
   "metadata": {},
   "outputs": [],
   "source": [
    "min_team_rating\n",
    "#sol_min_team_rating = m.getAttr('X',min_team_rating)\n",
    "#sol_min_team_rating"
   ]
  },
  {
   "cell_type": "code",
   "execution_count": null,
   "metadata": {},
   "outputs": [],
   "source": [
    "max_team_rating"
   ]
  },
  {
   "cell_type": "code",
   "execution_count": null,
   "metadata": {},
   "outputs": [],
   "source": [
    "sol_player_assignment = {}\n",
    "for k,v in sol_player_assigned_to_team.items():\n",
    "    if sol_player_assigned_to_team[k[0],k[1]] == 1:\n",
    "        sol_player_assignment[k[0]] = k[1]\n",
    "        print(k[0]+\" : \"+k[1])"
   ]
  },
  {
   "cell_type": "code",
   "execution_count": null,
   "metadata": {},
   "outputs": [],
   "source": [
    "sol_player_assignment"
   ]
  },
  {
   "cell_type": "code",
   "execution_count": null,
   "metadata": {},
   "outputs": [],
   "source": [
    "for p in Players:\n",
    "    if sol_player_assignment[p] != df.Tm[p]:\n",
    "        print(\"{} traded from {} to {}\".format(p,sol_player_assignment[p],df.Tm[p]))"
   ]
  },
  {
   "cell_type": "code",
   "execution_count": null,
   "metadata": {},
   "outputs": [],
   "source": [
    "df.Tm[\"Karl-Anthony Towns\"]"
   ]
  },
  {
   "cell_type": "code",
   "execution_count": null,
   "metadata": {},
   "outputs": [],
   "source": [
    "sol_player_assignment[\"Karl-Anthony Towns\"]"
   ]
  },
  {
   "cell_type": "code",
   "execution_count": null,
   "metadata": {},
   "outputs": [],
   "source": [
    "for p,t in sol_player_assignment.items():\n",
    "    df[\"NewTeam\"].loc[p]= t\n"
   ]
  },
  {
   "cell_type": "code",
   "execution_count": null,
   "metadata": {},
   "outputs": [],
   "source": [
    "df[\"NewTeam\"].head()"
   ]
  },
  {
   "cell_type": "code",
   "execution_count": null,
   "metadata": {
    "scrolled": true
   },
   "outputs": [],
   "source": [
    "df[\"NewTeam\"][df.NewTeam == \"PHI\"]"
   ]
  },
  {
   "cell_type": "code",
   "execution_count": null,
   "metadata": {},
   "outputs": [],
   "source": [
    "len(df.index)"
   ]
  },
  {
   "cell_type": "code",
   "execution_count": null,
   "metadata": {},
   "outputs": [],
   "source": [
    "x = df[\"NewTeam\"]!=df[\"Tm\"]\n",
    "df[x]"
   ]
  },
  {
   "cell_type": "code",
   "execution_count": null,
   "metadata": {},
   "outputs": [],
   "source": []
  }
 ],
 "metadata": {
  "kernelspec": {
   "display_name": "Python 3",
   "language": "python",
   "name": "python3"
  },
  "language_info": {
   "codemirror_mode": {
    "name": "ipython",
    "version": 3
   },
   "file_extension": ".py",
   "mimetype": "text/x-python",
   "name": "python",
   "nbconvert_exporter": "python",
   "pygments_lexer": "ipython3",
   "version": "3.6.3"
  }
 },
 "nbformat": 4,
 "nbformat_minor": 1
}
